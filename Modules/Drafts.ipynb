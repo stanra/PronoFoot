{
 "cells": [
  {
   "cell_type": "code",
   "execution_count": 1,
   "metadata": {
    "collapsed": true
   },
   "outputs": [],
   "source": [
    "import db_model, db_client\n",
    "from collections import Counter, OrderedDict\n",
    "import pprint"
   ]
  },
  {
   "cell_type": "markdown",
   "metadata": {},
   "source": [
    "# QQ\n",
    "\n",
    "Ca ne marche psa vraiment. L'algo ne devrait pas etre faux. Je l'ai refait plein de fois.\n",
    "Du coup il faudrait checker les donnees enregistrees. Il y a peut etre une erreur. Ou bien je ne comprend pas...\n"
   ]
  },
  {
   "cell_type": "code",
   "execution_count": 34,
   "metadata": {},
   "outputs": [
    {
     "name": "stdout",
     "output_type": "stream",
     "text": [
      "Counter({'Aymeric': 1292,\n         'Duga': 1283,\n         'Didi': 1225,\n         'Miller': 1144,\n         'Mad': 1033,\n         'Stan': 1015,\n         'Arthur': 665,\n         'Pierre': 665,\n         'Rémi': 285})\nCounter({'Didi': 1900,\n         'Duga': 1899,\n         'Aymeric': 1889,\n         'Miller': 1835,\n         'Stan': 1664,\n         'Mad': 1520,\n         'Pierre': 1104,\n         'Arthur': 1082,\n         'Rémi': 566})\nCounter({'Duga': 875,\n         'Aymeric': 868,\n         'Didi': 847,\n         'Miller': 802,\n         'Stan': 741,\n         'Mad': 721,\n         'Arthur': 457,\n         'Pierre': 455,\n         'Rémi': 215})\nCounter({'Aymeric': 212,\n         'Duga': 204,\n         'Didi': 189,\n         'Miller': 171,\n         'Mad': 156,\n         'Stan': 137,\n         'Pierre': 105,\n         'Arthur': 104,\n         'Rémi': 35})\n"
     ]
    }
   ],
   "source": [
    "total_points = Counter()\n",
    "total_played = Counter()\n",
    "total_result = Counter()\n",
    "total_score = Counter()\n",
    "\n",
    "for doc in db_client.get_collection('test_didi_4', 'competitions').find():\n",
    "    for cousin in doc['pronos']:\n",
    "        total_points[cousin['participant_name']] += cousin['total_points']\n",
    "        total_played[cousin['participant_name']] += cousin['total_played']\n",
    "        total_result[cousin['participant_name']] += cousin['total_result']\n",
    "        total_score[cousin['participant_name']]  += cousin['total_score']\n",
    "        \n",
    "pprint.pprint(total_points)\n",
    "pprint.pprint(total_played)\n",
    "pprint.pprint(total_result)\n",
    "pprint.pprint(total_score)"
   ]
  },
  {
   "cell_type": "markdown",
   "metadata": {},
   "source": [
    "Aymeric is the leader of these five days : "
   ]
  },
  {
   "cell_type": "code",
   "execution_count": 36,
   "metadata": {},
   "outputs": [
    {
     "name": "stdout",
     "output_type": "stream",
     "text": [
      "total points:\nCounter({'Aymeric': 1292,\n         'Duga': 1283,\n         'Didi': 1225,\n         'Miller': 1144,\n         'Mad': 1033,\n         'Stan': 1015,\n         'Arthur': 665,\n         'Pierre': 665,\n         'Rémi': 285})\n"
     ]
    }
   ],
   "source": [
    "print('total points:')\n",
    "pprint.pprint(total_points)"
   ]
  },
  {
   "cell_type": "markdown",
   "metadata": {},
   "source": [
    "(We can also see that Mad has more points than Stan despite not being here in 2011-2012...)\n",
    "\n",
    "Aymeric is also leading the total score ranking. However, it is Duga who guessed the winner the most :"
   ]
  },
  {
   "cell_type": "code",
   "execution_count": 37,
   "metadata": {},
   "outputs": [
    {
     "name": "stdout",
     "output_type": "stream",
     "text": [
      "result :\nCounter({'Duga': 875,\n         'Aymeric': 868,\n         'Didi': 847,\n         'Miller': 802,\n         'Stan': 741,\n         'Mad': 721,\n         'Arthur': 457,\n         'Pierre': 455,\n         'Rémi': 215})\nscore :\nCounter({'Aymeric': 212,\n         'Duga': 204,\n         'Didi': 189,\n         'Miller': 171,\n         'Mad': 156,\n         'Stan': 137,\n         'Pierre': 105,\n         'Arthur': 104,\n         'Rémi': 35})\n"
     ]
    }
   ],
   "source": [
    "print('result :')\n",
    "pprint.pprint(total_result)\n",
    "\n",
    "print('score :')\n",
    "pprint.pprint(total_score)"
   ]
  },
  {
   "cell_type": "markdown",
   "metadata": {},
   "source": [
    "These results are very unfair ! Not everyone participated in the same number of games! I forgot many times, Arthur and Pierre came a lot later, and Remi only had a brief appearance.\n",
    "\n",
    "Didi is the only one who never missed a game, which is somewhat expected. However, Duga has also beensurprisingly serious, whith only one game missed in 5 years!\n",
    "The game missed count is somewhat falsed by the fact that Stan started in the middle of a competition. Moreover Didi counted points when we missed some games, but I didn't."
   ]
  },
  {
   "cell_type": "code",
   "execution_count": 44,
   "metadata": {},
   "outputs": [
    {
     "name": "stdout",
     "output_type": "stream",
     "text": [
      "total played :\nCounter({'Didi': 1900,\n         'Duga': 1899,\n         'Aymeric': 1889,\n         'Miller': 1835,\n         'Stan': 1664,\n         'Mad': 1520,\n         'Pierre': 1104,\n         'Arthur': 1082,\n         'Rémi': 566})\nStan missed 236 out of 1900, so bet on 12.421052631578947 of the games\nArthur missed 58 out of 1140, so bet on 5.087719298245614 of the games\nRémi missed 574 out of 1140, so bet on 50.35087719298246 of the games\nDuga missed 1 out of 1900, so bet on 0.05263157894736842 of the games\nMad missed 0 out of 1520, so bet on 0.0 of the games\nPierre missed 36 out of 1140, so bet on 3.1578947368421053 of the games\nDidi missed 0 out of 1900, so bet on 0.0 of the games\nAymeric missed 11 out of 1900, so bet on 0.5789473684210527 of the games\nMiller missed 65 out of 1900, so bet on 3.4210526315789473 of the games\n"
     ]
    }
   ],
   "source": [
    "print('total played :')\n",
    "pprint.pprint(total_played)\n",
    "\n",
    "def nb_game(season):\n",
    "    return 380*season\n",
    "\n",
    "season_participated = {'Didi':5, 'Duga':5, 'Aymeric':5, 'Miller':5, 'Stan':5, 'Mad':4, 'Pierre':3, \n",
    "                       'Arthur':3, 'Rémi':3}\n",
    "\n",
    "for name, nb_season in season_participated.items():\n",
    "    print('{name} missed {missed} out of {total}, so bet on {frac} of the games'.format(\n",
    "        name=name, missed=380*nb_season-total_played[name], total=380*nb_season, \n",
    "        frac= (100 * (380*nb_season-total_played[name])/(380*nb_season)))\n",
    "    )"
   ]
  },
  {
   "cell_type": "code",
   "execution_count": null,
   "metadata": {},
   "outputs": [],
   "source": [
    ""
   ]
  },
  {
   "cell_type": "code",
   "execution_count": null,
   "outputs": [],
   "source": [
    ""
   ]
  }
 ],
 "metadata": {
  "kernelspec": {
   "display_name": "Python 2",
   "language": "python",
   "name": "python2"
  },
  "language_info": {
   "codemirror_mode": {
    "name": "ipython",
    "version": 2.0
   },
   "file_extension": ".py",
   "mimetype": "text/x-python",
   "name": "python",
   "nbconvert_exporter": "python",
   "pygments_lexer": "ipython2",
   "version": "2.7.6"
  }
 },
 "nbformat": 4,
 "nbformat_minor": 0
}